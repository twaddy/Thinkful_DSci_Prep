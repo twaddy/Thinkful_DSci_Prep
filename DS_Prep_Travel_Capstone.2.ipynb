{
 "cells": [
  {
   "cell_type": "markdown",
   "metadata": {},
   "source": [
    "### Objectives:\n",
    "  * 1) Calculate the average hours per day that all Americans travel.\n",
    "  * 2) Observe the weekly cycles, if any, in reasons for travel.\n",
    "  * 3) Try to discern whether homes are closer to work or school, perhaps giving insight into housing market choices."
   ]
  },
  {
   "cell_type": "markdown",
   "metadata": {},
   "source": [
    "### Data Source:\n",
    "Data from the Bureau of Labor Statistics' ATUS - the American Time-Use Survey.  \n",
    "ATUS is itself is a sub-sampling of respondents previously surveyed in the CPS -  \n",
    "Current Population Survey, a monthly survey to maintain knowledge of labor statistics.  \n",
    "https://www.kaggle.com/bls/american-time-use-survey"
   ]
  },
  {
   "cell_type": "markdown",
   "metadata": {},
   "source": [
    "ATUS provides 9 linkable datasets. (more on that later). One is a summary.\n",
    "The full datasets, especially when merged need 4Gb of memory, so can cripple my laptop.  \n",
    "Thus I choose to prototype my code with pruned down versions of each csv file.  \n",
    "\n",
    "I will start with the summary: \"atussum.csv\"  \n",
    "It being *totals* of activity times, it is wider than the other cvs's (455 columns) but not so deep."
   ]
  },
  {
   "cell_type": "markdown",
   "metadata": {},
   "source": [
    "N.B. for readability variable name abreviations:\n",
    "  * fp:   for... File Path  \n",
    "  * df:   for... Data Frame   \n",
    "  * se:   for... Series  "
   ]
  },
  {
   "cell_type": "markdown",
   "metadata": {},
   "source": [
    "<span style=\"color:green\">NB that notes in green are \"magic carpet moments\",   \n",
    "where, in draft #1, I fly over the gaps/omissions/holes,   \n",
    "for the sake of getting to the end of the first draft,  \n",
    "in the blind faith that, in draft #2+, I can fix them. </span>"
   ]
  },
  {
   "cell_type": "code",
   "execution_count": 2,
   "metadata": {
    "collapsed": true,
    "scrolled": false
   },
   "outputs": [],
   "source": [
    "import os\n",
    "import pandas as pd\n",
    "import numpy as np\n",
    "import matplotlib.pyplot as plt\n",
    "import importlib                       # python3.4+ depreciated imp.reload. Use importlib.reload\n",
    "import atus_var_dictionary as avd      # my way to get a grip of col/var meanings\n",
    "importlib.reload(avd)                  # comment out when no longer making changes to atus_var_dictionary\n",
    "%matplotlib inline"
   ]
  },
  {
   "cell_type": "code",
   "execution_count": 3,
   "metadata": {
    "collapsed": true
   },
   "outputs": [],
   "source": [
    "# file paths to initial csv files\n",
    "data_dir= '/Users/twaddy/NOTES/thinkful/DataSciBootCampPrep/cvs_data/atus/'\n",
    "\n",
    "sum_fp  = os.path.join(data_dir, 'atussum.csv')  #0.2 Gb\n",
    "act_fp  = os.path.join(data_dir, 'atusact.csv')  #0.4 Gb\n",
    "resp_fp = os.path.join(data_dir, 'atusresp.csv') #0.1 Gb\n",
    "rost_fp = os.path.join(data_dir, 'atusrost.csv')\n",
    "cps_fp  = os.path.join(data_dir, 'atuscps.csv')  #0.6 Gb\n",
    "who_fp  = os.path.join(data_dir, 'atuswho.csv')\n",
    "\n",
    "# file paths to intermediate csv files\n",
    "travel_sum_fp   = os.path.join(data_dir, 'tw_atus_travel_sum.csv')\n",
    "travel_act_fp   = os.path.join(data_dir, 'tw_atus_travel_act.csv')\n",
    "travel_cps_fp   = os.path.join(data_dir, 'tw_atus_travel_cps.csv')\n",
    "travel_resp_fp  = os.path.join(data_dir, 'tw_atus_travel_resp.csv')\n",
    "travel_all_fp   = os.path.join(data_dir, 'tw_atus_travel_all.csv')"
   ]
  },
  {
   "cell_type": "code",
   "execution_count": 4,
   "metadata": {
    "collapsed": true
   },
   "outputs": [],
   "source": [
    "# As data files were large, these flags determine whether:\n",
    "#     1) to read original cvs file, prune un-needed data and save intermediate to disk\n",
    "#     2) to read the pruned intermediate cvs from disk\n",
    "force_prune_sum_csv = False\n",
    "force_prune_activities_csv = False\n",
    "force_prune_cps_csv = False\n",
    "force_prune_resp_csv = False"
   ]
  },
  {
   "cell_type": "code",
   "execution_count": 5,
   "metadata": {
    "collapsed": true
   },
   "outputs": [],
   "source": [
    "# The vast majority of the summary's columns and coded activities, for now, I shall discard:\n",
    "# Keeping the first 24 columns that interest me and all columns related to travel.\n",
    "\n",
    "# NB I save the data-reduced result for faster re-use later.\n",
    "if (not os.path.exists(travel_sum_fp)) or force_prune_sum_csv:\n",
    "    df_sum = pd.read_csv(sum_fp)\n",
    "    big_shape = df_sum.shape\n",
    "    first_24 = list(df_sum.columns.values)[:24]\n",
    "    travel_18s = list(df_sum.filter(regex='t18', axis=1))\n",
    "    first24_and_travel = first_24 + travel_18s\n",
    "    df_sum = df_sum.filter(items=first24_and_travel)\n",
    "    lean_travel_shape = df_sum.shape\n",
    "\n",
    "    print(\"#summary rows reduced from {0} to {1}\".format(big_shape[0],df_sum.shape[0]))\n",
    "    print(\"#summary cols reduced from {0} to {1}\".format(big_shape[1],df_sum.shape[1]))\n",
    "    print(\"writing out a csv file for summary data to help isolate, school run, commute and students...\")\n",
    "    df_sum.to_csv(path_or_buf=travel_sum_fp, mode = 'w', index=False)\n",
    "\n",
    "    print(\"\\nAlso in the summary data, we have {0} recorded reasons for travel.\".format(len(travel_18s)))\n",
    "else:\n",
    "    df_sum = pd.read_csv(travel_sum_fp)"
   ]
  },
  {
   "cell_type": "markdown",
   "metadata": {},
   "source": [
    "###  Recall Objective 1:\n",
    "\n",
    "  * 1) Calculate the average hours per day that all Americans travel.\n",
    "\n",
    "Before diving into different, specific reasons for travel, let's sum *ALL* travel columns,   \n",
    "whatever they represent and make a new column \"all_travel\" to hold that sum.  "
   ]
  },
  {
   "cell_type": "code",
   "execution_count": 6,
   "metadata": {
    "collapsed": true
   },
   "outputs": [],
   "source": [
    "# Summing across columns ( hence: axis = 1) all those named in the list: travel_18s\n",
    "travel_18s = list(df_sum.filter(regex='t18', axis=1))\n",
    "df_sum['all_travel'] = df_sum[travel_18s].sum(axis=1)"
   ]
  },
  {
   "cell_type": "code",
   "execution_count": 7,
   "metadata": {},
   "outputs": [
    {
     "name": "stdout",
     "output_type": "stream",
     "text": [
      "\n",
      "Average time Americans spend traveling = 72 mins\n",
      "(ie 1.20 hours ... Travelling for any reason.)\n",
      "\n"
     ]
    }
   ],
   "source": [
    "# The average time spent traveling by Americans:\n",
    "all_travelling_any_reason = df_sum['all_travel'].sum()\n",
    "all_travellers = df_sum['all_travel'].count()\n",
    "mean_travel_any_reason = round(all_travelling_any_reason / all_travellers)\n",
    "in_hours = mean_travel_any_reason/60\n",
    "print(\"\\nAverage time Americans spend traveling = {0:.0f} mins\".format(mean_travel_any_reason))\n",
    "print(\"(ie {0:.2f} hours ... Travelling for any reason.)\\n\".format(in_hours))"
   ]
  },
  {
   "cell_type": "code",
   "execution_count": 8,
   "metadata": {},
   "outputs": [
    {
     "data": {
      "image/png": "[encoded data removed]",
      "text/plain": [
       "<matplotlib.figure.Figure at 0x10b7fde10>"
      ]
     },
     "metadata": {},
     "output_type": "display_data"
    },
    {
     "name": "stdout",
     "output_type": "stream",
     "text": [
      "Presumably the right-skew from including those that \"travel\" for a living; taxi, truck, bus drivers etc\n",
      "This is just the 'Summary data'. I need to press on... however, if I were to circle back...\n",
      "I'd remove those professionals by merging data including 'occupation'.\n",
      "(NB. There are 1902 trips lasting longer than 6 hours clipped away.)\n"
     ]
    }
   ],
   "source": [
    "# Let's plot that new \"all_travel\" column.\n",
    "travel_mean = df_sum['all_travel'].mean()\n",
    "some_travel_mean = df_sum['all_travel'].where(df_sum['all_travel'] > 0).mean()\n",
    "exclude_stay_at_homes = df_sum['all_travel'].where(df_sum['all_travel'] > 0)\n",
    "more_than_6_hours = df_sum['all_travel'].where(df_sum['all_travel'] > 360).count()\n",
    "\n",
    "fig = plt.figure(figsize=(16, 5))\n",
    "\n",
    "ax1 = fig.add_subplot(1, 1, 1)            # Create second matplotlib axes\n",
    "exclude_stay_at_homes.plot(kind='hist', ax = ax1, bins=72)\n",
    "plt.title(\"Exploration of Travel Time Distributions (excluding those who didn't travel at all)\")\n",
    "plt.xlabel('Time spent travelling (mins)\\nAverage = {0:.0f}'.format(some_travel_mean))\n",
    "plt.ylabel('Frequency')\n",
    "plt.xlim([0, 360])\n",
    "ymin, ymax = plt.ylim()\n",
    "plt.xticks(range(0, 360, 60))\n",
    "plt.vlines(some_travel_mean, 0, ymax, color='red')\n",
    "plt.tight_layout()\n",
    "plt.show()\n",
    "\n",
    "print('Presumably the right-skew from including those that \"travel\" for a living; taxi, truck, bus drivers etc')\n",
    "print(\"This is just the 'Summary data'. I need to press on... however, if I were to circle back...\")\n",
    "print(\"I'd remove those professionals by merging data including 'occupation'.\")\n",
    "print(\"(NB. There are {0} trips lasting longer than 6 hours clipped away.)\".format(more_than_6_hours))"
   ]
  },
  {
   "cell_type": "code",
   "execution_count": 9,
   "metadata": {},
   "outputs": [
    {
     "data": {
      "image/png": "[encoded data removed]",
      "text/plain": [
       "<matplotlib.figure.Figure at 0x10edaff98>"
      ]
     },
     "metadata": {},
     "output_type": "display_data"
    }
   ],
   "source": [
    "# ### How does travel, all_travel,  vary through the week?\n",
    "# Using groupby to examine how weekly patterns show in the data.\n",
    "# The output of a groupby is a series...\n",
    "\n",
    "se_travel = df_sum.filter(items=['all_travel', 'tudiaryday']).groupby('tudiaryday')['all_travel'].mean()\n",
    "\n",
    "#   WHY DID THESE MORE PYTHONESQUE WAYS FAIL? (merely trying to label bars with \"Mon\", \"Tue\" etc)\n",
    "#df_travel['day_of_week'] = df_travel['tudiaryday'].apply(lambda x: day_names[x])\n",
    "#df_travel['day_of_week'] = df_travel.apply(lambda x: day_names[x])\n",
    "#df_travel['Col3'] = df_travel['index'].map(lambda x: day_names[x])\n",
    "\n",
    "df_travel_reindexed = se_travel.reindex(['SUN', 'MON', 'TUE', 'WED', 'THR', 'FRI', 'SAT']).to_frame()\n",
    "df_travel_reindexed['travel_by_day_of_week'] = list(se_travel)\n",
    "df_travel_reindexed.plot(kind='bar', y='travel_by_day_of_week', \n",
    "                         title=\"Any and all travel, by day of week.\", rot = 0)\n",
    "plt.tight_layout()\n",
    "plt.show()\n"
   ]
  },
  {
   "cell_type": "markdown",
   "metadata": {},
   "source": [
    "I confess I'm surprised by how even this plot turns out to be.  \n",
    "I assumed a strong weekly signal would be apparent, even in this data aggregated into \"all_travel\".  \n",
    "More motivation of dive into details...  "
   ]
  },
  {
   "cell_type": "code",
   "execution_count": 10,
   "metadata": {
    "collapsed": true,
    "scrolled": true
   },
   "outputs": [],
   "source": [
    "codes_fp  = os.path.join(data_dir, 'codes.csv') \n",
    "df_codes = pd.read_csv(codes_fp)\n",
    "\n",
    "def get_code_meaning(in_df=None, code=None):\n",
    "    try:\n",
    "        df_matches_with_nans = in_df.where(in_df['code'] == code)\n",
    "        df_matches_no_nans = df_matches_with_nans.dropna(how='any')\n",
    "        if len(df_matches_no_nans):\n",
    "            meaning = df_matches_no_nans.iloc[0]['name']\n",
    "            return meaning\n",
    "        else:\n",
    "            return None\n",
    "    except IOError as e:\n",
    "        print(\"get_code_meaning I/O error({0}): {1}\".format(e.errno, e.strerror))\n",
    "\n",
    "#print(\"\\nProvide meaning to {0} codes listed in travel_18s\\n\".format(len(travel_18s)))\n",
    "#for tcode in travel_18s:\n",
    "#    code = int(tcode[1:])\n",
    "#    meaning = get_code_meaning(in_df=df_codes, code=code)\n",
    "#    print(\"{0:9} -> {1}\".format(tcode, meaning))"
   ]
  },
  {
   "cell_type": "markdown",
   "metadata": {},
   "source": [
    "### Ok, so now we have an easy means to meaning, lets pick a few specific reasons for trips...\n",
    "\n",
    "#### Choose two expected to have weekdays/weekend relevence:  \n",
    "  * 1) t181302   -> Travel related to attending sporting/recreational events\n",
    "  * 2) t181401   -> Travel related to religious/spiritual practices\n",
    "\n",
    "####  choose another expected to have time-of-day patterns:\n",
    "  * 1) t181101   -> Travel related to eating and drinking\n",
    "\n",
    "####  Choose another perhaps having gender influences:\n",
    "  * 1)t180381   -> Travel related to caring for and helping hh children"
   ]
  },
  {
   "cell_type": "markdown",
   "metadata": {},
   "source": [
    "Anticipating a similar \"plot-per-week\" for each of the above 4 travel codes,  \n",
    "below is the function to do so, easily.  \n",
    "\n",
    "<span style=\"color:green\"> DRAFT @2  \n",
    "In a loop of 4 activity codes, plot the per_week charts as sub plots  \n",
    "for easier inter comparison for the reader.  \n",
    "Near working code/pseudo code in next box.  \n",
    "</span>\n"
   ]
  },
  {
   "cell_type": "raw",
   "metadata": {
    "collapsed": true
   },
   "source": [
    "# This cell raw text at the moment.\n",
    "# As code, it doesn't work but... wil do ;)\n",
    "\n",
    "def sub_plot_x_per_week(in_df=None, ax=None, in_code=None, sub_plot_cood=(1,1)):\n",
    "    day_names_caps = ['SUN', 'MON', 'TUE', 'WED', 'THR', 'FRI', 'SAT']\n",
    "    code_meaning = get_code_meaning(in_df=in_df, code=in_code)\n",
    "    se_grouped = in_df.filter(items=[in_code, 'tudiaryday']).groupby('tudiaryday')[in_code].mean()\n",
    "    df_travel_reindexed = se_grouped.reindex(day_names_caps).to_frame()\n",
    "    df_travel_reindexed['travel_by_day_of_week'] = list(se_grouped)\n",
    "    if ax is None:\n",
    "        ax = plt.gca()\n",
    "    plot = df_travel_reindexed.plot(kind='bar',\n",
    "                                    ax=ax,\n",
    "                                    y=\"trips per week\",\n",
    "                                    title='{0} travel per week'.format(code_meaning),\n",
    "                                    rot=0)\n",
    "    return plot\n",
    "\n",
    "# make figure with subplots\n",
    "fig, (ax1, ax2) = plt.subplots(1, 2, sharey=True, figsize=(10,5))\n",
    "sub_plot_x_per_week(in_df=df_sum, ax=ax1, in_code='t180101')\n",
    "sub_plot_x_per_week(in_df=df_sum, ax=ax2, in_code='t181302')"
   ]
  },
  {
   "cell_type": "markdown",
   "metadata": {},
   "source": [
    "###  Objective 3)  Try to discern whether homes are closer to work or school  \n",
    "(perhaps giving insight into housing market choices.)\n",
    "\n",
    "I'll attack this question twice:\n",
    "  * 1) First, just using the summary (respondent only data, but codes for both work and education travel)\n",
    "  * 2) Second, merging with roster, who and respondents csv's, to confirm the household has kids."
   ]
  },
  {
   "cell_type": "raw",
   "metadata": {},
   "source": [
    "1) Within Summary..\n",
    "Codes for work-travel...\n",
    "t180501   -> Travel related to working\n",
    "t180502   -> Travel related to work-related activities\n",
    "t180589   -> Travel related to work, n.e.c.*\n",
    "ean_\n",
    "Codes for education travel...\n",
    "t180601   -> Travel related to taking class\n",
    "t180682   -> None                                 (what *was* this code? ( it was nested in with education))\n",
    "t180699   -> Travel related to education, n.e.c.*"
   ]
  },
  {
   "cell_type": "code",
   "execution_count": 27,
   "metadata": {
    "scrolled": false
   },
   "outputs": [
    {
     "data": {
      "image/png": "[encoded data removed]",
      "text/plain": [
       "<matplotlib.figure.Figure at 0x11138a9b0>"
      ]
     },
     "metadata": {},
     "output_type": "display_data"
    }
   ],
   "source": [
    "work_travel_codes = ['t180501', 't180502', 't180589']\n",
    "edu_travel_codes = ['t180601', 't180699']\n",
    "\n",
    "df_sum['travel_edu']  = df_sum[edu_travel_codes].sum(axis=1) \n",
    "df_sum['travel_work']  = df_sum[work_travel_codes].sum(axis=1)\n",
    "\n",
    "df_sum['travel_edu']  = df_sum['travel_edu'].where(df_sum['travel_edu'] > 2).where(df_sum['travel_edu'] < 180).dropna()\n",
    "df_sum['travel_work'] = df_sum['travel_work'].where(df_sum['travel_work'] > 2).where(df_sum['travel_work'] < 180).dropna()\n",
    "df_compare_edu_work = df_sum[['travel_edu', 'travel_work']].dropna(how='all')\n",
    "mean_edu = df_sum['travel_edu'].mean()\n",
    "mean_work = df_sum['travel_work'].mean()\n",
    "\n",
    "fig = plt.figure(figsize=(16, 5))\n",
    "ax1 = fig.add_subplot(1, 1, 1) \n",
    "df_compare_edu_work.plot(kind='hist', \n",
    "                         ax = ax1, \n",
    "                         bins=15, \n",
    "                         color = ['pink','black'],\n",
    "                         alpha =0.5)\n",
    "plt.title(\"Comparision of travel for Education (of Respondent) Vs Work\")\n",
    "plt.legend([\"Education\", \"Work\"])\n",
    "plt.xlabel('Time spent travelling (mins), Mean Edu(pink) = {0:.2f}, Mean Work(black) = {1:.2f}'.format(mean_edu, mean_work))\n",
    "plt.ylabel('Frequency')\n",
    "plt.xlim([0, 180])\n",
    "ymin, ymax = plt.ylim()\n",
    "plt.xticks(range(0, 180, 15))\n",
    "plt.vlines(mean_edu, 0, ymax, color='pink')\n",
    "plt.vlines(mean_work, 0, ymax, color='black')\n",
    "plt.tight_layout()\n",
    "plt.show()\n",
    "\n",
    "#df_compare_edu_work.plot(kind='hist',alpha=0.5)"
   ]
  },
  {
   "cell_type": "raw",
   "metadata": {},
   "source": [
    "This plot fails to reveal a clear comparison of drive-time to school and work because:\n",
    "    The summary's \"travel for education\" coding refers to the respondent's education, not their child's."
   ]
  },
  {
   "cell_type": "code",
   "execution_count": 4,
   "metadata": {
    "collapsed": true
   },
   "outputs": [],
   "source": [
    "# from all activities, keep just travel and a few columns as to who is travelling and why.\n",
    "# Initially large files with much irrelevent data, filtered, and, smaller, re-written back to disk...\n",
    "if (not os.path.exists(travel_act_fp)) or force_prune_activities_csv:\n",
    "    df_act  = pd.read_csv(act_fp)\n",
    "    # Filter rows to retain activities designated as \"travel\", for *ANY* reason. (coded 6 digits starting with 18)\n",
    "    df_travel_act = df_act.where(df_act.trcodep.map(lambda x: x if (str(x).startswith('18')) else np.nan)).dropna()\n",
    "\n",
    "    # Filter columns of un-need data\n",
    "    keeper_act_cols = ['tucaseid', 'tuactivity_n', 'tucc5', 'tuactdur24', 'trcodep', 'tewhere', 'tufinlwgt']\n",
    "    df_travel_act = df_travel_act.filter(items=keeper_act_cols)\n",
    "\n",
    "    print(\"Filtered to retain *only* travel activities:\")\n",
    "    print(\"#rows    reduced from {0} to {1}\".format(df_act.shape[0],df_travel_act.shape[0]))\n",
    "    print(\"#columns reduced from {0} to {1}\".format(df_act.shape[1],df_travel_act.shape[1]))\n",
    "    print(\"writing out a csv file for *just* travel activities...\")\n",
    "    df_travel_act.to_csv(path_or_buf=travel_act_fp, mode = 'w', index=False)\n",
    "else:\n",
    "    df_travel_act = pd.read_csv(travel_act_fp)"
   ]
  },
  {
   "cell_type": "code",
   "execution_count": 5,
   "metadata": {
    "collapsed": true
   },
   "outputs": [],
   "source": [
    "# atuscps.csv file.  (CPS is the Current Population Survey. It's 625Mb)\n",
    "if (not os.path.exists(travel_cps_fp)) or force_prune_cps_csv:\n",
    "    df_cps  = pd.read_csv(cps_fp)\n",
    "    keep_cps_col_linkers = ['tucaseid', 'tulineno']\n",
    "    keep_cps_col_geog    = ['gestfips']         # gestfips = state\n",
    "    keep_cps_occupation  = ['prdtocc1']                     # trdtocc1 = 22 = work in transportation\n",
    "    keep_cps_school      = ['peschenr']                     # peschenr = 1 = enrolled in school\n",
    "\n",
    "    all_cps_keepers  =  keep_cps_col_linkers + keep_cps_col_geog + keep_cps_occupation + keep_cps_school\n",
    "    df_pruned_cps = df_cps.filter(items=all_cps_keepers)\n",
    "    df_pruned_cps.to_csv(path_or_buf=travel_cps_fp, mode = 'w', index=False)\n",
    "    print(\"#cps rows reduced from {0} to {1}\".format(df_cps.shape[0],df_pruned_cps.shape[0]))\n",
    "    print(\"#cps cols reduced from {0} to {1}\".format(df_cps.shape[1],df_pruned_cps.shape[1]))\n",
    "    print(\"writing out a csv file for cps data to help isolate, school run, commute and students...\")\n",
    "else:\n",
    "    df_cps = pd.read_csv(travel_cps_fp)"
   ]
  },
  {
   "cell_type": "code",
   "execution_count": 6,
   "metadata": {
    "collapsed": true
   },
   "outputs": [],
   "source": [
    "if (not os.path.exists(travel_resp_fp)) or force_prune_resp_csv:\n",
    "    df_resp  = pd.read_csv(resp_fp)\n",
    "    big_df_resp_shape = df_resp.shape\n",
    "    keep_resp_cols_linkers     = ['tucaseid', 'tulineno']               #for join/merge\n",
    "    keep_resp_temporal         = ['tudiaryday', 'trholiday']            #for weekday/holiday exclusion\n",
    "    keep_resp_cols_occ_ind_emp = ['trdtind1', 'trdtocc1', 'telfs']      #for taxi/bus driver exclusion\n",
    "    keep_resp_cols_par_sch     = ['trnumhou', 'tryhhchild']             #for parent school run inclusion\n",
    "    keep_resp_are_student      = ['teschenr']                           #for resp = school student inclusion\n",
    "\n",
    "    all_resp_keepers =  keep_resp_cols_linkers +\\\n",
    "                        keep_resp_temporal +\\\n",
    "                        keep_resp_cols_occ_ind_emp +\\\n",
    "                        keep_resp_cols_par_sch +\\\n",
    "                        keep_resp_are_student\n",
    "\n",
    "    df_resp = df_resp.filter(items=all_resp_keepers)\n",
    "    df_resp.to_csv(path_or_buf=travel_resp_fp, mode = 'w', index=False)\n",
    "    print(\"#cps rows reduced from {0} to {1}\".format(big_df_resp_shape[0], df_resp.shape[0]))\n",
    "    print(\"#cps cols reduced from {0} to {1}\".format(big_df_resp_shape[1], df_resp.shape[1]))\n",
    "    print(\"writing out a csv file for resp data\")\n",
    "else:\n",
    "    df_resp = pd.read_csv(travel_resp_fp)"
   ]
  },
  {
   "cell_type": "code",
   "execution_count": 7,
   "metadata": {
    "collapsed": true
   },
   "outputs": [],
   "source": [
    "# Note that the activities dataframe (travel_act_df) still includes travel on weekends and holidays.\n",
    "# The diarydate and whether a holiday is not in this activities data.\n",
    "# It's recorded in the atusresp.csv\n",
    "# We must now merge the \"respondent\" data."
   ]
  },
  {
   "cell_type": "code",
   "execution_count": 8,
   "metadata": {},
   "outputs": [
    {
     "name": "stdout",
     "output_type": "stream",
     "text": [
      "['tucaseid']\n"
     ]
    }
   ],
   "source": [
    "# Before joining/merging, which columns in common in differnt csv files?\n",
    "def get_cols_in_common(df1, df2):\n",
    "    \"\"\"Not very pandesque! Is there already a df method for this?\"\"\"\n",
    "    df1_cols = list(df1.columns.values)\n",
    "    df2_cols = list(df2.columns.values)\n",
    "    overlap = list(set(df1_cols).intersection(df2))\n",
    "    return overlap\n",
    "print(get_cols_in_common(df_travel_act, df_resp))"
   ]
  },
  {
   "cell_type": "code",
   "execution_count": 9,
   "metadata": {},
   "outputs": [
    {
     "name": "stdout",
     "output_type": "stream",
     "text": [
      "(701526, 15)\n"
     ]
    }
   ],
   "source": [
    "df_merged_act_resp = pd.merge(df_travel_act, df_resp, on=['tucaseid'], how='outer')\n",
    "print(df_merged_act_resp.shape)"
   ]
  },
  {
   "cell_type": "code",
   "execution_count": 10,
   "metadata": {
    "collapsed": true
   },
   "outputs": [],
   "source": [
    "# NB. weekdays are encoded such that  (1,2,3 -> 7)  == (Sun, Mon, Tue -> Sat)\n",
    "# Query for: non-sundays AND non-saturdays AND non-holidays\n",
    "weekday_travel_df = df_merged_act_resp.query('(tudiaryday != 7) & (tudiaryday != 1) & (trholiday == 0)').dropna(how='all')"
   ]
  },
  {
   "cell_type": "code",
   "execution_count": 11,
   "metadata": {
    "collapsed": true
   },
   "outputs": [],
   "source": [
    "# Reading the remaining needed data\n",
    "#df_sum  = pd.read_csv(sum_fp)\n",
    "df_rost = pd.read_csv(rost_fp)\n",
    "df_who  = pd.read_csv(who_fp)"
   ]
  },
  {
   "cell_type": "code",
   "execution_count": 16,
   "metadata": {},
   "outputs": [
    {
     "name": "stdout",
     "output_type": "stream",
     "text": [
      "['tucaseid', 'tulineno']\n",
      "(4393901, 8)\n",
      "['tucaseid', 'tulineno', 'tuactivity_n']\n"
     ]
    },
    {
     "data": {
      "text/plain": [
       "(4548557, 20)"
      ]
     },
     "execution_count": 16,
     "metadata": {},
     "output_type": "execute_result"
    }
   ],
   "source": [
    "#Merging.  Roster and Who  ... then that result into the above \"weekday_travel_act_resp_df\"\n",
    "print(get_cols_in_common(df_rost, df_who))\n",
    "df_merged_rost_who = pd.merge(df_rost, df_who, on=['tucaseid', 'tulineno'], how='outer')\n",
    "print(df_merged_rost_who.shape)\n",
    "\n",
    "print(get_cols_in_common(weekday_travel_df, df_merged_rost_who))\n",
    "df_merged_all = pd.merge(weekday_travel_df, df_merged_rost_who, on=['tucaseid', 'tulineno', 'tuactivity_n'], how='outer')\n",
    "df_merged_all.to_csv(path_or_buf=travel_all_fp, mode = 'w', index=False)\n",
    "df_merged_all.shape"
   ]
  },
  {
   "cell_type": "code",
   "execution_count": 17,
   "metadata": {
    "collapsed": true
   },
   "outputs": [],
   "source": [
    "# 3 population isolation efforts are needed and will follow below:\n",
    "#         1) Those parent respondents driving their student child to school.\n",
    "#         2) Those parent respondents, without child drop-off, commuting to work, who don't work in transport.\n",
    "#         3) Those high-schoolers/student respondents who are self-driving to/from school/college."
   ]
  },
  {
   "cell_type": "code",
   "execution_count": null,
   "metadata": {
    "collapsed": true
   },
   "outputs": [],
   "source": []
  },
  {
   "cell_type": "code",
   "execution_count": null,
   "metadata": {
    "collapsed": true
   },
   "outputs": [],
   "source": []
  },
  {
   "cell_type": "code",
   "execution_count": null,
   "metadata": {
    "collapsed": true
   },
   "outputs": [],
   "source": []
  },
  {
   "cell_type": "code",
   "execution_count": 18,
   "metadata": {
    "collapsed": true
   },
   "outputs": [],
   "source": [
    "# The is to allow jumping in mid-way.\n",
    "#data_dir= '/Users/twaddy/NOTES/thinkful/DataSciBootCampPrep/cvs_data/atus/'\n",
    "#travel_all_fp   = os.path.join(data_dir, 'tw_atus_travel_all.csv')\n",
    "#df_merged_all = pd.read_csv(travel_all_fp)\n",
    "#rint(df_merged_all.shape)\n",
    "#print(df_merged_all.memory_usage(index=True).sum()/1000000)"
   ]
  },
  {
   "cell_type": "markdown",
   "metadata": {},
   "source": [
    "3 population isolation efforts are needed and will follow below:  \n",
    "        1) Those parent respondents driving under 13 student to school.  \n",
    "        2) Those parent respondents, without child drop-off, commuting to work, who don't work in transport.  \n",
    "        3) Those high-schoolers/student respondents who are self-driving to/from school/college."
   ]
  },
  {
   "cell_type": "code",
   "execution_count": 19,
   "metadata": {
    "collapsed": true,
    "scrolled": false
   },
   "outputs": [],
   "source": [
    "# LEGEND:\n",
    "# trcodep activity codes 180601 and 180699 are travel for \"taking class\" and \"education n.e.c.\"\n",
    "# tucc5 is +'ve is child under 13 present\n",
    "# tewhere's transport are: 12,13:car driver,pass, 14:walk, 15:Bus, 14:train, 20:plane, 21 other.\n",
    "# terrp is \"relationship to resp\" & 22,23,27 are own,grand and foster child (18,19 = self = rest)\n",
    "# tulineno 1=resp alone, 2= first companion etc.\n",
    "# trdtocc1 \"occupation\" = 22 = \"transportation\"\n",
    "# telfs  \"full or part-time employment status\" = 1:employed, all others not."
   ]
  },
  {
   "cell_type": "code",
   "execution_count": 20,
   "metadata": {
    "scrolled": true
   },
   "outputs": [
    {
     "name": "stdout",
     "output_type": "stream",
     "text": [
      "(1810563, 20)\n",
      "(1001417, 20)\n",
      "(0, 20)\n",
      "\n",
      "This is not working the way I expected! No own children being driven! \n",
      "\n"
     ]
    }
   ],
   "source": [
    "df_has_company = df_merged_all.where(df_merged_all['tulineno'] > 1).dropna(how='all')\n",
    "print(df_has_company.shape)\n",
    "\n",
    "df_has_kid_co  = df_has_company.where(df_has_company['terrp'] == 22).dropna(how='all')\n",
    "print(df_has_kid_co.shape)\n",
    "\n",
    "df_has_kid_in_car = df_has_kid_co.where(df_has_kid_co['tewhere'] == 12).dropna(how='all')\n",
    "print(df_has_kid_in_car.shape)\n",
    "\n",
    "print(\"\\nThis is not working the way I expected! No own children being driven! \\n\")"
   ]
  },
  {
   "cell_type": "code",
   "execution_count": 21,
   "metadata": {
    "scrolled": true
   },
   "outputs": [
    {
     "name": "stdout",
     "output_type": "stream",
     "text": [
      "(1810563, 20)\n",
      "(1001417, 20)\n",
      "(0, 20)\n",
      "\n",
      "Same way to same wrong daft result.\n",
      "\n"
     ]
    }
   ],
   "source": [
    "# The filter chain below... Respondent has company -> of own child -> in the car\n",
    "print(df_merged_all.query('tulineno > 1').dropna(how='all').shape)\n",
    "print(df_merged_all.query('tulineno > 1').query('terrp == 22').dropna(how='all').shape)\n",
    "print(df_merged_all.query('tulineno > 1').query('terrp == 22').query('tewhere == 12').dropna(how='all').shape)\n",
    "print(\"\\nSame way to same wrong daft result.\\n\")"
   ]
  },
  {
   "cell_type": "code",
   "execution_count": 22,
   "metadata": {
    "scrolled": false
   },
   "outputs": [
    {
     "name": "stdout",
     "output_type": "stream",
     "text": [
      "(1156, 20)\n",
      "(0, 20)\n",
      "\n",
      "I.E. Of the 1156 under 13 year olds with the respondent, 0 also the their own! I don't get it!\n",
      "\n"
     ]
    }
   ],
   "source": [
    "# Flogging this dead-cat...\n",
    "# tucc5 > 1 if in company of own child under 13\n",
    "print(df_merged_all.query('tucc5 > 1').dropna(how='all').shape)\n",
    "print(df_merged_all.query('tucc5 > 1').query('terrp == 22').dropna(how='all').shape)\n",
    "\n",
    "print(\"\\nI.E. Of the 1156 under 13 year olds with the respondent, 0 also the their own! I don't get it!\\n\")"
   ]
  },
  {
   "cell_type": "code",
   "execution_count": null,
   "metadata": {
    "collapsed": true
   },
   "outputs": [],
   "source": []
  },
  {
   "cell_type": "code",
   "execution_count": null,
   "metadata": {
    "collapsed": true
   },
   "outputs": [],
   "source": []
  },
  {
   "cell_type": "code",
   "execution_count": null,
   "metadata": {
    "collapsed": true
   },
   "outputs": [],
   "source": []
  },
  {
   "cell_type": "code",
   "execution_count": null,
   "metadata": {
    "collapsed": true
   },
   "outputs": [],
   "source": []
  },
  {
   "cell_type": "code",
   "execution_count": null,
   "metadata": {
    "collapsed": true
   },
   "outputs": [],
   "source": []
  },
  {
   "cell_type": "code",
   "execution_count": null,
   "metadata": {
    "collapsed": true
   },
   "outputs": [],
   "source": []
  },
  {
   "cell_type": "code",
   "execution_count": null,
   "metadata": {
    "collapsed": true,
    "scrolled": true
   },
   "outputs": [],
   "source": [
    "fig = plt.figure(figsize=(16, 5))\n",
    "ax1 = fig.add_subplot(1, 1, 1)            # Create first  matplotlib axes\n",
    "travel_with_under_13_df['tuactdur24'].plot(kind='hist',  ax = ax1, bins=90)\n",
    "plt.title('Travel with a child under 13.')    \n",
    "#plt.xlabel(\"Time spent travelling (mins)\\nAverage = {0:.0f} (some don't travel at all)\".format(travel_mean))\n",
    "plt.xlabel(\"Time spent travelling (mins)\")\n",
    "plt.ylabel('Frequency of respondents travelling this time.')\n",
    "plt.xlim([0, 90])\n",
    "ymin, ymax = plt.ylim()\n",
    "#plt.xticks(range(0, 600, 60))\n",
    "#plt.vlines(travel_mean, 0, ymax, color='red')"
   ]
  },
  {
   "cell_type": "code",
   "execution_count": null,
   "metadata": {
    "collapsed": true,
    "scrolled": false
   },
   "outputs": [],
   "source": [
    "#df_rost.groupby('tucaseid').where(df_rost['tulineno'].max > 1)\n",
    "# terrp (relationship) corresponds 22, 23, 27, 40 = own, grand, foster, non-hh yet own child\n",
    "\n",
    "def has_child(x):\n",
    "    if x in [22,23,27,40]:\n",
    "        return 1\n",
    "    else:\n",
    "        return 0\n",
    "\n",
    "#hh_non_solo = df_rost.groupby('tucaseid')['tulineno'].max()\n",
    "#hh_with_child = df_rost.groupby('tucaseid').apply(has_child(df_rost['terrp']))                                                 \n",
    "#hh_with_child"
   ]
  },
  {
   "cell_type": "code",
   "execution_count": null,
   "metadata": {
    "collapsed": true,
    "scrolled": true
   },
   "outputs": [],
   "source": [
    "# Summing across columns ( hence: axis = 1) all those named in the list: travel_18s\n",
    "df_sum['all_travel'] = df_sum[travel_18s].sum(axis=1)\n",
    "all_edu_travel_df  = df_sum[['t180601', 't180699']]\n",
    "\n",
    "\n",
    "# The average time spent traveling by Americans:\n",
    "all_travelling_any_reason = df_sum['all_travel'].sum()\n",
    "all_travellers = df_sum['all_travel'].count()\n",
    "mean_travel_any_reason = round(all_travelling_any_reason / all_travellers)\n",
    "in_hours = mean_travel_any_reason/60\n",
    "print(\"\\nAverage time Americans spend traveling = {0:.0f} mins\".format(mean_travel_any_reason))\n",
    "print(\"(ie {0:.2f} hours ... Travelling for any reason.)\\n\".format(in_hours))"
   ]
  },
  {
   "cell_type": "raw",
   "metadata": {
    "collapsed": true
   },
   "source": [
    "This is thinking out loud/talking to the dog. \n",
    "Q & A's where A's are possibilities to explore.\n",
    "\n",
    "Q: How do we isolate \"school run\" travel?\n",
    "    A1: Respondent must have a child in household < 18 'tryhhchild'\n",
    "    A2: Travel sub-categorised as \"for education/class\" \"activity # 0302\"\n",
    "    A3: \"the who was with respondent\" points to child of household during travel\n",
    "Activiy code: Travel related to education  = 1806 (1706 for years2003/4)\n",
    "    \n",
    "How do we isolate \"daily commute\" travel?\n",
    "    A1: respondent not in transportation business.\n",
    "    A2: respondent has typically 2 similarly long travel periods per day.\n",
    "    A3: Does not have HH child < 13 with them. (accidentally removes kids dropped as part of commute)\n",
    "    Shit. This might still be a school-run parent.\n",
    "\n",
    "Should I assume that secondary earner/non-earner is responsible for getting kids to school.\n",
    "The respondent is not necessarily the primary earner. \n",
    "Can we glean what fraction of responders are primary earners?\n",
    "\n",
    "Ideally we would want to compare the school and commute travel *for the same house-hold*\n",
    "The respondents who drive kids are precisely *not* the respondents who\n",
    "\n",
    "Regarding average distance to schools:\n",
    "    Elementary schools are smaller, so more of them, so typically closer.\n",
    "    Older school age kids, might travel further, but more take bus and evade this survey."
   ]
  },
  {
   "cell_type": "code",
   "execution_count": null,
   "metadata": {
    "collapsed": true
   },
   "outputs": [],
   "source": [
    "def average_minutes(data, activity_code):\n",
    "    activity_col = \"t{}\".format(activity_code)\n",
    "    data = data[['TUFINLWGT', activity_col]]\n",
    "    data = data.rename(columns={\"TUFINLWGT\": \"weight\", activity_col: \"minutes\"})\n",
    "    data['weighted_minutes'] = data.weight * data.minutes\n",
    "    return data.weighted_minutes.sum() / data.weight.sum()\n",
    "\n",
    "def average_minutes2(data, activity_code):\n",
    "    cols = activity_columns(data, activity_code)\n",
    "    activity_data = data[cols]\n",
    "    activity_sums = activity_data.sum(axis=1)\n",
    "    data = data[['TUFINLWGT']]\n",
    "    data['minutes'] = activity_sums\n",
    "    data = data.rename(columns={\"TUFINLWGT\": \"weight\"})\n",
    "    data['weighted_minutes'] = data.weight * data.minutes\n",
    "    return data.weighted_minutes.sum() / data.weight.sum()"
   ]
  }
 ],
 "metadata": {
  "kernelspec": {
   "display_name": "Python 3",
   "language": "python",
   "name": "python3"
  },
  "language_info": {
   "codemirror_mode": {
    "name": "ipython",
    "version": 3
   },
   "file_extension": ".py",
   "mimetype": "text/x-python",
   "name": "python",
   "nbconvert_exporter": "python",
   "pygments_lexer": "ipython3",
   "version": "3.6.0"
  }
 },
 "nbformat": 4,
 "nbformat_minor": 2
}
