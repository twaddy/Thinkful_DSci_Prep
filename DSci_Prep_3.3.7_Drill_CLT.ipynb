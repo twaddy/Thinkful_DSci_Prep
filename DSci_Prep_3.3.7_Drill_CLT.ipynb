{
 "cells": [
  {
   "cell_type": "code",
   "execution_count": 5,
   "metadata": {
    "collapsed": true
   },
   "outputs": [],
   "source": [
    "import numpy as np\n",
    "import pandas as pd\n",
    "import scipy\n",
    "import matplotlib.pyplot as plt\n",
    "%matplotlib inline"
   ]
  },
  {
   "cell_type": "markdown",
   "metadata": {},
   "source": [
    "Objective:Create a binomially distributed population of 10,000 \n",
    "with mean of 2. (ie n=10, p-0.2)\n",
    "Take samples of 100 and 1000 and 20. How do the sample means, stds change?\n",
    "\n",
    "My expection: Sample mean to converge on population mean for higher sample numbers.\n",
    "              Sample std  to diminish(sharpen) for higher sample numbers. (like 1/sqrt(n))"
   ]
  },
  {
   "cell_type": "code",
   "execution_count": 6,
   "metadata": {
    "scrolled": false
   },
   "outputs": [
    {
     "data": {
      "image/png": "[encoded data removed]",
      "text/plain": [
       "<matplotlib.figure.Figure at 0x10ae22f98>"
      ]
     },
     "metadata": {},
     "output_type": "display_data"
    },
    {
     "name": "stdout",
     "output_type": "stream",
     "text": [
      "\n",
      "Expect mean of 2. It is 2.0013\n",
      "Pop_mean2 sigma (std) is 1.2582123469430748\n",
      "\n"
     ]
    }
   ],
   "source": [
    "pop_mean2 = np.random.binomial(10, 0.2, 10000)\n",
    "\n",
    "# Let’s make a histogram.\n",
    "plt.hist(pop_mean2, alpha=0.5, label='Pop with Mean2') \n",
    "\n",
    "plt.legend(loc='upper right') \n",
    "plt.show()\n",
    "print(\"\\nExpect mean of 2. It is {0}\".format(pop_mean2.mean()))\n",
    "print(\"Pop_mean2 sigma (std) is {0}\\n\".format(pop_mean2.std()))"
   ]
  },
  {
   "cell_type": "code",
   "execution_count": 7,
   "metadata": {
    "scrolled": true
   },
   "outputs": [
    {
     "data": {
      "image/png": "[encoded data removed]",
      "text/plain": [
       "<matplotlib.figure.Figure at 0x10ae854a8>"
      ]
     },
     "metadata": {},
     "output_type": "display_data"
    },
    {
     "name": "stdout",
     "output_type": "stream",
     "text": [
      "\n",
      "Expect sample mean of 2.\n",
      "With a sample of 100, it is 1.84\n",
      "\n"
     ]
    }
   ],
   "source": [
    "sample100 = np.random.choice(pop_mean2, 100, replace=True)\n",
    "plt.hist(sample100, alpha=0.5, label='sample of 100') \n",
    "plt.legend(loc='upper right') \n",
    "plt.show()\n",
    "print(\"\\nExpect sample mean of 2.\")\n",
    "print(\"With a sample of 100, it is {0}\\n\".format(sample100.mean()))"
   ]
  },
  {
   "cell_type": "markdown",
   "metadata": {},
   "source": [
    "And i I repeated this 1000 times, I'd expect those means to have\n",
    "a normal distribution, (even if pop1 didn't), centered on the pop1 mean\n",
    "and an std that decreased with increasing sample size."
   ]
  },
  {
   "cell_type": "code",
   "execution_count": 8,
   "metadata": {
    "scrolled": true
   },
   "outputs": [
    {
     "data": {
      "image/png": "[encoded data removed]",
      "text/plain": [
       "<matplotlib.figure.Figure at 0x10aefcc88>"
      ]
     },
     "metadata": {},
     "output_type": "display_data"
    }
   ],
   "source": [
    "# Plotting the distribution of sample means...\n",
    "sample_100_means = []\n",
    "sample_1000_means = []\n",
    "sample_20_means = []\n",
    "for ii in range(1000):\n",
    "    sample100  = np.random.choice(pop_mean2, 100,  replace=True)\n",
    "    sample1000 = np.random.choice(pop_mean2, 1000, replace=True)\n",
    "    sample20   = np.random.choice(pop_mean2, 20  , replace=True)\n",
    "        \n",
    "    sample_100_means.append(sample100.mean() )\n",
    "    sample_1000_means.append(sample1000.mean() )\n",
    "    sample_20_means.append(sample20.mean() )       \n",
    "    \n",
    "means_100 = np.array(sample_100_means) \n",
    "means_1000 = np.array(sample_1000_means) \n",
    "means_20 = np.array(sample_20_means) \n",
    "\n",
    "plt.figure(figsize=(10, 5))\n",
    "\n",
    "plt.subplot(131)\n",
    "plt.hist(means_100, alpha=0.5, color='red')\n",
    "plt.ylabel('Count')\n",
    "plt.xlim([1, 3])\n",
    "plt.ylim([0, 300])\n",
    "plt.title('Sample of 100')\n",
    "\n",
    "plt.subplot(132)\n",
    "plt.hist(means_1000,alpha=0.5, color='green')\n",
    "plt.ylabel('Count')\n",
    "plt.xlim([1, 3])\n",
    "plt.ylim([0, 300])\n",
    "plt.title('Sample of 1000')\n",
    "\n",
    "plt.subplot(133)\n",
    "plt.hist(means_20,  alpha=0.5, color='blue')\n",
    "plt.ylabel('Count')\n",
    "plt.xlim([1, 3])\n",
    "plt.ylim([0, 300])\n",
    "plt.title('Sample of 20')\n",
    "\n",
    "plt.tight_layout()\n",
    "plt.show()\n",
    "\"\"\"\n",
    "plt.hist(means_100, alpha=0.5, width= 0.1, color='red',   label='means of samples of 100')\n",
    "plt.hist(means_1000,alpha=0.5, width= 0.1, color='green', label='means of samples of 1000')\n",
    "plt.hist(means_20,  alpha=0.5, width= 0.1, color='blue',  label='means of samples of 20')\n",
    "\"\"\"\n",
    "plt.show()"
   ]
  },
  {
   "cell_type": "code",
   "execution_count": 9,
   "metadata": {
    "scrolled": true
   },
   "outputs": [
    {
     "data": {
      "image/png": "[encoded data removed]",
      "text/plain": [
       "<matplotlib.figure.Figure at 0x10ae85390>"
      ]
     },
     "metadata": {},
     "output_type": "display_data"
    },
    {
     "name": "stdout",
     "output_type": "stream",
     "text": [
      "\n",
      "Now we expect mean of 3. It is 3.0147\n",
      "Pop1 sigma (std) is 1.4286650797160265\n",
      "\n"
     ]
    }
   ],
   "source": [
    "pop_mean3 = np.random.binomial(10, 0.3, 10000)\n",
    "\n",
    "# Let’s make a histogram.\n",
    "plt.hist(pop_mean3, alpha=0.5, label='Pop 1') \n",
    "\n",
    "plt.legend(loc='upper right') \n",
    "plt.show()\n",
    "print(\"\\nNow we expect mean of 3. It is {0}\".format(pop_mean3.mean()))\n",
    "print(\"Pop1 sigma (std) is {0}\\n\".format(pop_mean3.std()))"
   ]
  },
  {
   "cell_type": "code",
   "execution_count": 11,
   "metadata": {
    "scrolled": true
   },
   "outputs": [
    {
     "data": {
      "image/png": "[encoded data removed]",
      "text/plain": [
       "<matplotlib.figure.Figure at 0x10b5f2198>"
      ]
     },
     "metadata": {},
     "output_type": "display_data"
    }
   ],
   "source": [
    "# Plotting the distribution of sample means...\n",
    "sample_100_means = []\n",
    "sample_1000_means = []\n",
    "sample_20_means = []\n",
    "for ii in range(1000):\n",
    "    sample100  = np.random.choice(pop_mean3, 100,  replace=True)\n",
    "    sample1000 = np.random.choice(pop_mean3, 1000, replace=True)\n",
    "    sample20   = np.random.choice(pop_mean3, 20  , replace=True)\n",
    "        \n",
    "    sample_100_means.append(sample100.mean() )\n",
    "    sample_1000_means.append(sample1000.mean() )\n",
    "    sample_20_means.append(sample20.mean() )       \n",
    "    \n",
    "means_100 = np.array(sample_100_means) \n",
    "means_1000 = np.array(sample_1000_means) \n",
    "means_20 = np.array(sample_20_means) \n",
    "\n",
    "plt.figure(figsize=(10, 5))\n",
    "\n",
    "plt.subplot(131)\n",
    "plt.hist(means_100, alpha=0.5, color='red')\n",
    "plt.ylabel('Count')\n",
    "plt.xlim([1, 5])\n",
    "plt.ylim([0, 300])\n",
    "plt.title('Sample of 100')\n",
    "\n",
    "plt.subplot(132)\n",
    "plt.hist(means_1000,alpha=0.5, color='green')\n",
    "plt.ylabel('Count')\n",
    "plt.xlim([1, 5])\n",
    "plt.ylim([0, 300])\n",
    "plt.title('Sample of 1000')\n",
    "\n",
    "plt.subplot(133)\n",
    "plt.hist(means_20,  alpha=0.5, color='blue')\n",
    "plt.ylabel('Count')\n",
    "plt.xlim([1, 5])\n",
    "plt.ylim([0, 300])\n",
    "plt.title('Sample of 20')\n",
    "\n",
    "plt.tight_layout()\n",
    "plt.show()"
   ]
  },
  {
   "cell_type": "markdown",
   "metadata": {},
   "source": [
    "The Mean, as expect has shifted from 2 to 3.\n",
    "The bell curve shape for each sample size is unchanged for samples of 100,1000 and 20.\n",
    "\n",
    "Now, these binomials have *some* symmetry. \n",
    "Let's choose an under-lying distribution with *no* symmetry.\n",
    "Let's choose an exponential..."
   ]
  },
  {
   "cell_type": "code",
   "execution_count": 14,
   "metadata": {
    "scrolled": true
   },
   "outputs": [
    {
     "data": {
      "image/png": "[encoded data removed]",
      "text/plain": [
       "<matplotlib.figure.Figure at 0x10b84f908>"
      ]
     },
     "metadata": {},
     "output_type": "display_data"
    },
    {
     "name": "stdout",
     "output_type": "stream",
     "text": [
      "\n",
      "I'm not sure what mean to expect.... In fact, it is 2.960490205359501\n",
      "Exponential's sigma (std) is 3.0019557822597753\n",
      "\n"
     ]
    }
   ],
   "source": [
    "pop_expo = np.random.exponential(3, 10000)\n",
    "\n",
    "# Let’s make a histogram.\n",
    "plt.hist(pop_expo, alpha=0.5, label='Exponential') \n",
    "\n",
    "plt.legend(loc='upper right') \n",
    "plt.show()\n",
    "print(\"\\nI'm not sure what mean to expect.... In fact, it is {0}\".format(pop_expo.mean()))\n",
    "print(\"Exponential's sigma (std) is {0}\\n\".format(pop_expo.std()))"
   ]
  },
  {
   "cell_type": "code",
   "execution_count": 17,
   "metadata": {
    "scrolled": true
   },
   "outputs": [
    {
     "data": {
      "image/png": "[encoded data removed]",
      "text/plain": [
       "<matplotlib.figure.Figure at 0x10b0aa8d0>"
      ]
     },
     "metadata": {},
     "output_type": "display_data"
    }
   ],
   "source": [
    "# Plotting the distribution of sample means...\n",
    "sample_100_means = []\n",
    "sample_1000_means = []\n",
    "sample_20_means = []\n",
    "for ii in range(1000):\n",
    "    sample100  = np.random.choice(pop_expo, 100,  replace=True)\n",
    "    sample1000 = np.random.choice(pop_expo, 1000, replace=True)\n",
    "    sample20   = np.random.choice(pop_expo, 20  , replace=True)\n",
    "        \n",
    "    sample_100_means.append(sample100.mean() )\n",
    "    sample_1000_means.append(sample1000.mean() )\n",
    "    sample_20_means.append(sample20.mean() )       \n",
    "    \n",
    "means_100 = np.array(sample_100_means) \n",
    "means_1000 = np.array(sample_1000_means) \n",
    "means_20 = np.array(sample_20_means) \n",
    "\n",
    "plt.figure(figsize=(10, 5))\n",
    "\n",
    "plt.subplot(131)\n",
    "plt.hist(means_100, alpha=0.5, color='red')\n",
    "plt.ylabel('Count')\n",
    "plt.xlim([1, 5])\n",
    "plt.ylim([0, 300])\n",
    "plt.title('Sample of 100')\n",
    "\n",
    "plt.subplot(132)\n",
    "plt.hist(means_1000,alpha=0.5, color='green')\n",
    "plt.ylabel('Count')\n",
    "plt.xlim([1, 5])\n",
    "plt.ylim([0, 300])\n",
    "plt.title('Sample of 1000')\n",
    "\n",
    "plt.subplot(133)\n",
    "plt.hist(means_20,  alpha=0.5, color='blue')\n",
    "plt.ylabel('Count')\n",
    "plt.xlim([1, 5])\n",
    "plt.ylim([0, 300])\n",
    "plt.title('Sample of 20')\n",
    "\n",
    "plt.tight_layout()\n",
    "plt.show()"
   ]
  },
  {
   "cell_type": "markdown",
   "metadata": {},
   "source": [
    "As per CLT, the sample means still reflect the population mean, and ever more so with increasing sample size."
   ]
  }
 ],
 "metadata": {
  "kernelspec": {
   "display_name": "Python 3",
   "language": "python",
   "name": "python3"
  },
  "language_info": {
   "codemirror_mode": {
    "name": "ipython",
    "version": 3
   },
   "file_extension": ".py",
   "mimetype": "text/x-python",
   "name": "python",
   "nbconvert_exporter": "python",
   "pygments_lexer": "ipython3",
   "version": "3.6.0"
  }
 },
 "nbformat": 4,
 "nbformat_minor": 2
}
