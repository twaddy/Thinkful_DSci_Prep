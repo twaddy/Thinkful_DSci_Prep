{
 "cells": [
  {
   "cell_type": "markdown",
   "metadata": {},
   "source": [
    "### Objectives:   \n",
    " 1) Calculate the average hours per day that all Americans travel.    \n",
    " 2) Observe the weekly cycles, if any, in reasons for travel.     \n",
    " 3) Try to discern whether homes are closer to work or school, perhaps giving insight into housing market choices.    "
   ]
  },
  {
   "cell_type": "markdown",
   "metadata": {},
   "source": [
    "\n",
    "<span style=\"color:green\">\n",
    "NB that notes in green are \"magic carpet moments\", where, in draft #1,   \n",
    "I fly over the gaps/omissions/holes, for the sake of getting to the end of the first draft,   \n",
    "in the blind faith that, in draft #2 +, I will fix them. text\n",
    "</span>\n"
   ]
  },
  {
   "cell_type": "markdown",
   "metadata": {},
   "source": [
    "### Data Source:   \n",
    "Data from the Bureau of Labor Statistics' ATUS - the American Time-Use Survey.    \n",
    "ATUS is itself is a sub-sampling of respondents previously surveyed in the Current Population Survey (CPS),   \n",
    "a monthly survey to maintain knowledge of labor statistics.\n",
    "https://www.kaggle.com/bls/american-time-use-survey"
   ]
  },
  {
   "cell_type": "markdown",
   "metadata": {},
   "source": [
    "ATUS provides 9 linkable datasets. (more on that later)   \n",
    "The full datasets, especially when merged need 4Gb of memory, so can cripple my laptop.  \n",
    "Thus I choose to prototype my code with pruned down versions of each csv file.    \n",
    "(That and other supporting code in separate python scripts) \n",
    "\n",
    "I will start with one which is itself a summary some of the others: \"atussum.csv\"   \n",
    "It being *totals* of activity times, it is wider than the other cvs's (455 columns) but not so deep.   "
   ]
  },
  {
   "cell_type": "raw",
   "metadata": {},
   "source": [
    "Note for readability: Variable name abreviations applied below: \n",
    "        fp: for... File Path\n",
    "        df: for... Data Frame\n",
    "        se: for... Series"
   ]
  },
  {
   "cell_type": "markdown",
   "metadata": {},
   "source": [
    "<span style=\"color:green\">NB that notes in green are \"magic carpet moments\", where, in draft #1,    \n",
    "I fly over the gaps/omissions/holes, for the sake of getting to the end of the first draft,  \n",
    "in the blind faith that, in draft #2+, I will fix them. </span>"
   ]
  },
  {
   "cell_type": "code",
   "execution_count": 2,
   "metadata": {
    "collapsed": true,
    "scrolled": true
   },
   "outputs": [],
   "source": [
    "import pandas as pd\n",
    "import matplotlib.pyplot as plt\n",
    "%matplotlib inline"
   ]
  },
  {
   "cell_type": "code",
   "execution_count": 3,
   "metadata": {
    "collapsed": true
   },
   "outputs": [],
   "source": [
    "#sum_fp = '/Users/twaddy/NOTES/thinkful/DataSciBootCampPrep/cvs_data/atus/atussum.csv'\n",
    "sum_fp = '/Users/twaddy/NOTES/thinkful/DataSciBootCampPrep/cvs_data/atus/pruned_copies/pruned_atussum.csv'\n",
    "df_sum = pd.read_csv(sum_fp)\n",
    "full_width_shape = df_sum.shape "
   ]
  },
  {
   "cell_type": "code",
   "execution_count": 4,
   "metadata": {
    "scrolled": true
   },
   "outputs": [
    {
     "name": "stdout",
     "output_type": "stream",
     "text": [
      "\n",
      "Pruned db width from: (54, 455) ... down to: (54, 77)\n",
      "\n",
      "So in the summary data, we have 53 recorded reasons for travel.\n"
     ]
    }
   ],
   "source": [
    "# The vast majority of columns and coded activities, for now, I shall discard:\n",
    "# Keeping the first 24 columns that interest me and all columns related to travel.\n",
    "first_24 = list(df_sum.columns.values)[:24]\n",
    "travel_18s = list(df_sum.filter(regex='t18', axis=1))\n",
    "first24_and_travel = first_24 + travel_18s\n",
    "df_sum = df_sum.filter(items=first24_and_travel)\n",
    "lean_travel_shape = df_sum.shape\n",
    "\n",
    "print(\"\\nPruned db width from: {0} ... down to: {1}\".format(full_width_shape, lean_travel_shape))\n",
    "print(\"\\nSo in the summary data, we have {0} recorded reasons for travel.\".format(len(travel_18s)))"
   ]
  },
  {
   "cell_type": "markdown",
   "metadata": {},
   "source": [
    "### Recall Objective 1:\n",
    "1) Calculate the average hours per day that all Americans travel.       \n",
    "\n",
    "Before diving into different, specific reasons for travel, let's sum all travel columns,  \n",
    "whatever they represent and make a new column \"all_travel\" to hold that sum."
   ]
  },
  {
   "cell_type": "code",
   "execution_count": 5,
   "metadata": {
    "scrolled": true
   },
   "outputs": [
    {
     "name": "stdout",
     "output_type": "stream",
     "text": [
      "\n",
      "Average time Americans spend traveling = 64 mins\n",
      "(ie 1.07 hours ... Travelling for any reason.)\n",
      "\n"
     ]
    }
   ],
   "source": [
    "# Summing across columns ( hence: axis = 1) all those named in the list: travel_18s\n",
    "df_sum['all_travel'] = df_sum[travel_18s].sum(axis=1)\n",
    "\n",
    "# The average time spent traveling by Americans:\n",
    "all_travelling_any_reason = df_sum['all_travel'].sum()\n",
    "all_travellers = df_sum['all_travel'].count()\n",
    "mean_travel_any_reason = round(all_travelling_any_reason / all_travellers)\n",
    "in_hours = mean_travel_any_reason/60\n",
    "print(\"\\nAverage time Americans spend traveling = {0:.0f} mins\".format(mean_travel_any_reason))\n",
    "print(\"(ie {0:.2f} hours ... Travelling for any reason.)\\n\".format(in_hours))"
   ]
  },
  {
   "cell_type": "code",
   "execution_count": 6,
   "metadata": {
    "scrolled": false
   },
   "outputs": [
    {
     "data": {
      "image/png": "[encoded data removed]",
      "text/plain": [
       "<matplotlib.figure.Figure at 0x10fad7f28>"
      ]
     },
     "metadata": {},
     "output_type": "display_data"
    },
    {
     "name": "stdout",
     "output_type": "stream",
     "text": [
      "That long tail presumably includes those that \"travel\" for a living; taxi, truck, bus drivers etc\n",
      "I should like to circle back, and remove those professionals, but, for now, must press on.\n"
     ]
    }
   ],
   "source": [
    "# Let's plot that new \"all_travel\" column.\n",
    "travel_mean = df_sum['all_travel'].mean()\n",
    "some_travel_mean = df_sum['all_travel'].where(df_sum['all_travel'] > 0).mean()\n",
    "exclude_stay_at_homes = df_sum['all_travel'].where(df_sum['all_travel'] > 0)\n",
    "\n",
    "fig = plt.figure(figsize=(16, 5))\n",
    "\n",
    "ax1 = fig.add_subplot(1, 2, 1)            # Create first  matplotlib axes\n",
    "df_sum['all_travel'].plot(kind='hist',  ax = ax1, bins=60)\n",
    "plt.title('Travel for any reason.')    \n",
    "plt.xlabel(\"Time spent travelling (mins)\\nAverage = {0:.0f} (some don't travel at all)\".format(travel_mean))\n",
    "plt.ylabel('Frequency')\n",
    "plt.xlim([0, 360])\n",
    "ymin, ymax = plt.ylim()\n",
    "plt.xticks(range(0, 240, 60))\n",
    "plt.vlines(travel_mean, 0, ymax, color='red')\n",
    "\n",
    "ax2 = fig.add_subplot(1, 2, 2)            # Create second matplotlib axes\n",
    "exclude_stay_at_homes.plot(kind='hist', ax = ax2, bins=60)                   \n",
    "plt.title('Travel for any reason (excluding \"stay-at-homes\".)')    \n",
    "plt.xlabel('Time spent travelling (mins)\\nAverage = {0:.0f}'.format(some_travel_mean))\n",
    "plt.ylabel('Frequency')\n",
    "plt.xlim([0, 360])\n",
    "ymin, ymax = plt.ylim()\n",
    "plt.xticks(range(0, 240, 60))\n",
    "plt.vlines(some_travel_mean, 0, ymax, color='red')\n",
    "plt.tight_layout()\n",
    "plt.show()\n",
    "\n",
    "print('That long tail presumably includes those that \"travel\" for a living; taxi, truck, bus drivers etc')\n",
    "print(\"I should like to circle back, and remove those professionals, but, for now, must press on.\")\n",
    "#TRDTOCC1 is respondent's occupation   22 is code for \"Transportation and material moving occupations\"\n",
    "# In summary, tryhhchild is whether household has kid under 18."
   ]
  },
  {
   "cell_type": "markdown",
   "metadata": {},
   "source": [
    "### How does travel, all_travel,  vary through the week?\n",
    "Using groupby to examine how weekly patterns show in the data."
   ]
  },
  {
   "cell_type": "code",
   "execution_count": 7,
   "metadata": {
    "scrolled": true
   },
   "outputs": [
    {
     "data": {
      "image/png": "[encoded data removed]",
      "text/plain": [
       "<matplotlib.figure.Figure at 0x113221208>"
      ]
     },
     "metadata": {},
     "output_type": "display_data"
    }
   ],
   "source": [
    "days_of_week = pd.Series(['SUN', 'MON', 'TUE', 'WED', 'THR', 'FRI', 'SAT'])\n",
    "day_names = {0:'Sun', 1:'Mon',2:'Tues',3:'Weds',4:'Thurs',5:'Fri',6:'Sat'}\n",
    "day_names_caps = ['SUN', 'MON', 'TUE', 'WED', 'THR', 'FRI', 'SAT']\n",
    "\n",
    "# The output of a groupby is a series....\n",
    "se_travel = df_sum.filter(items=['all_travel', 'tudiaryday']).groupby('tudiaryday')['all_travel'].mean()\n",
    "\n",
    "#    WHY DID THESE MORE PYTHONESQUE WAYS FAIL? (merely trying to label bars with \"Mon\", \"Tue\" etc)\n",
    "#df_travel['day_of_week'] = df_travel['tudiaryday'].apply(lambda x: day_names[x])\n",
    "#df_travel['day_of_week'] = df_travel.apply(lambda x: day_names[x])\n",
    "#df_travel['Col3'] = df_travel['index'].map(lambda x: day_names[x])\n",
    "\n",
    "df_travel_reindexed = se_travel.reindex(['SUN', 'MON', 'TUE', 'WED', 'THR', 'FRI', 'SAT']).to_frame()\n",
    "df_travel_reindexed['travel_by_day_of_week'] = list(se_travel)\n",
    "df_travel_reindexed.plot(kind='bar', y='travel_by_day_of_week', title=\"Any and all travel, by day of week.\", rot = 0)\n",
    "plt.tight_layout()\n",
    "plt.show()"
   ]
  },
  {
   "cell_type": "markdown",
   "metadata": {},
   "source": [
    "I confess I'm surprised by how even this plot turns out to be.   \n",
    "I assumed a strong weekly signal would be apparent, even in this data aggregated into \"all_travel\".     \n",
    "More motivation of dive into details..."
   ]
  },
  {
   "cell_type": "code",
   "execution_count": 8,
   "metadata": {
    "scrolled": false
   },
   "outputs": [
    {
     "name": "stdout",
     "output_type": "stream",
     "text": [
      "\n",
      "Provide meaning to 53 codes listed in travel_18s\n",
      "\n",
      "t180101   -> Travel related to personal care\n",
      "t180199   -> Travel related to personal care, n.e.c.*\n",
      "t180280   -> Travel related to household activities\n",
      "t180381   -> Travel related to caring for and helping hh children\n",
      "t180382   -> Travel related to caring for and helping hh adults\n",
      "t180399   -> Travel rel. to caring for & helping hh members, n.e.c.*\n",
      "t180481   -> Travel related to caring for and helping nonhh children\n",
      "t180482   -> Travel related to caring for and helping nonhh adults\n",
      "t180499   -> Travel rel. to caring for & helping nonhh members, n.e.c.*\n",
      "t180501   -> Travel related to working\n",
      "t180502   -> Travel related to work-related activities\n",
      "t180589   -> Travel related to work, n.e.c.*\n",
      "t180601   -> Travel related to taking class\n",
      "t180682   -> None\n",
      "t180699   -> Travel related to education, n.e.c.*\n",
      "t180701   -> Travel related to grocery shopping\n",
      "t180782   -> Travel related to shopping (except grocery shopping)\n",
      "t180801   -> Travel related to using childcare services\n",
      "t180802   -> Travel related to using financial services and banking\n",
      "t180803   -> Travel related to using legal services\n",
      "t180804   -> Travel related to using medical services\n",
      "t180805   -> Travel related to using personal care services\n",
      "t180806   -> Travel related to using real estate services\n",
      "t180807   -> Travel related to using veterinary services\n",
      "t180899   -> Travel rel. to using prof. & personal care services, n.e.c.*\n",
      "t180901   -> Travel related to using household services\n",
      "t180902   -> Travel related to using home main./repair/décor./construction svcs\n",
      "t180903   -> Travel related to using pet services (not vet)\n",
      "t180904   -> Travel related to using lawn and garden services\n",
      "t180905   -> Travel related to using vehicle maintenance & repair services\n",
      "t180999   -> Travel related to using household services, n.e.c.*\n",
      "t181002   -> Travel related to civic obligations & participation\n",
      "t181081   -> None\n",
      "t181099   -> Travel rel. to govt svcs & civic obligations, n.e.c.*\n",
      "t181101   -> Travel related to eating and drinking\n",
      "t181199   -> Travel related to eating and drinking, n.e.c.*\n",
      "t181201   -> Travel related to socializing and communicating\n",
      "t181202   -> Travel related to attending or hosting social events\n",
      "t181204   -> Travel related to arts and entertainment\n",
      "t181283   -> Travel related to relaxing and leisure\n",
      "t181299   -> Travel rel. to socializing, relaxing, & leisure, n.e.c.*\n",
      "t181301   -> Travel related to participating in sports/exercise/recreation\n",
      "t181302   -> Travel related to attending sporting/recreational events\n",
      "t181399   -> Travel related to sports, exercise, & recreation, n.e.c.*\n",
      "t181401   -> Travel related to religious/spiritual practices\n",
      "t181499   -> Travel rel. to religious/spiritual activities, n.e.c.*\n",
      "t181501   -> Travel related to volunteering\n",
      "t181599   -> Travel related to volunteer activities, n.e.c.*\n",
      "t181601   -> Travel related to phone calls\n",
      "t181699   -> Travel rel. to phone calls, n.e.c.*\n",
      "t181801   -> Security procedures related to traveling\n",
      "t181899   -> Security procedures related to traveling, n.e.c.*\n",
      "t189999   -> Traveling, n.e.c.*\n"
     ]
    }
   ],
   "source": [
    "# Here is a function to provide the description of specific reasons for travel.\n",
    "# All activity codes, including travel related activities are in atuscodes.csv\n",
    "codes_fp = '/Users/twaddy/NOTES/thinkful/DataSciBootCampPrep/cvs_data/atus/codes.csv'\n",
    "df_codes = pd.read_csv(codes_fp)\n",
    "\n",
    "def get_code_meaning(in_df=None, code=None):\n",
    "    try:\n",
    "        df_matches_with_nans = in_df.where(in_df['code'] == code)\n",
    "        df_matches_no_nans = df_matches_with_nans.dropna(how='any')\n",
    "        if len(df_matches_no_nans):\n",
    "            meaning = df_matches_no_nans.iloc[0]['name']\n",
    "            return meaning\n",
    "        else:\n",
    "            return None\n",
    "    except IOError as e:\n",
    "        print(\"get_code_meaning I/O error({0}): {1}\".format(e.errno, e.strerror))\n",
    "\n",
    "print(\"\\nProvide meaning to {0} codes listed in travel_18s\\n\".format(len(travel_18s)))\n",
    "for tcode in travel_18s:\n",
    "    code = int(tcode[1:])\n",
    "    meaning = get_code_meaning(in_df=df_codes, code=code)\n",
    "    print(\"{0:9} -> {1}\".format(tcode, meaning))"
   ]
  },
  {
   "cell_type": "markdown",
   "metadata": {
    "collapsed": true
   },
   "source": [
    "### Ok, so now we have an easy means to meaning, lets pick a few specific reasons for trips...\n",
    "\n",
    "#### Choose two expected to have weekdays/weekend relevence:       \n",
    "    1)t181302   -> Travel related to attending sporting/recreational events   \n",
    "    2)t181401   -> Travel related to religious/spiritual practices   \n",
    "\n",
    "####  choose another expected to have time-of-day patterns:   \n",
    "    1)t181101   -> Travel related to eating and drinking   \n",
    "\n",
    "####  Choose another expected to have non-earning partner, perhaps gender correlates\n",
    "    1)t180381   -> Travel related to caring for and helping hh children  "
   ]
  },
  {
   "cell_type": "markdown",
   "metadata": {},
   "source": [
    "Anticipating a similar \"plot-per-week\" for each of the above 4 travel codes,   \n",
    "below is the function to do so, easily."
   ]
  },
  {
   "cell_type": "markdown",
   "metadata": {},
   "source": [
    "<span style=\"color:green\"> DRAFT @2\n",
    "In a loop of 4 activity codes, plot the per_week charts as sub plots\n",
    "for easier inter comparison for the reader.  \n",
    "Near working code/pseudo code in next box.\n",
    "</span>"
   ]
  },
  {
   "cell_type": "raw",
   "metadata": {
    "collapsed": true
   },
   "source": [
    "\"\"\"\n",
    "def sub_plot_x_per_week(in_df=None, ax=None, in_code=None, sub_plot_cood=(1,1)):\n",
    "    day_names_caps = ['SUN', 'MON', 'TUE', 'WED', 'THR', 'FRI', 'SAT']\n",
    "    code_meaning = get_code_meaning(in_df=in_df, code=in_code)\n",
    "    se_grouped = in_df.filter(items=[in_code, 'tudiaryday']).groupby('tudiaryday')[in_code].mean()\n",
    "    df_travel_reindexed = se_grouped.reindex(day_names_caps).to_frame()\n",
    "    df_travel_reindexed['travel_by_day_of_week'] = list(se_grouped)\n",
    "    if ax is None:\n",
    "        ax = plt.gca()\n",
    "    plot = df_travel_reindexed.plot(kind='bar',\n",
    "                                    ax=ax,\n",
    "                                    y=\"trips per week\",\n",
    "                                    title='{0} travel per week'.format(code_meaning),\n",
    "                                    rot=0)\n",
    "    return plot\n",
    "\n",
    "# make figure with subplots\n",
    "fig, (ax1, ax2) = plt.subplots(1, 2, sharey=True, figsize=(10,5))\n",
    "sub_plot_x_per_week(in_df=df_sum, ax=ax1, in_code='t180101')\n",
    "sub_plot_x_per_week(in_df=df_sum, ax=ax2, in_code='t181302')\n",
    "\n",
    "\"\"\""
   ]
  },
  {
   "cell_type": "raw",
   "metadata": {
    "collapsed": true
   },
   "source": [
    "Don't forget that quantization if the travel periods considered get very short...."
   ]
  },
  {
   "cell_type": "markdown",
   "metadata": {},
   "source": [
    "###  Objective 3)  Try to discern whether homes are closer to work or school  (perhaps giving insight into housing market choices.)\n",
    "\n",
    "I'll attack this question twice:  \n",
    "    1) First, just using the summary (which has codes for both work and education travel, but, for respondent only) \n",
    "    2) Second, merging with roster, respondents data, to confirm the household as kids."
   ]
  },
  {
   "cell_type": "raw",
   "metadata": {},
   "source": [
    "#1) Within Summary..\n",
    "Codes for work-travel...\n",
    "t180501   -> Travel related to working\n",
    "t180502   -> Travel related to work-related activities\n",
    "t180589   -> Travel related to work, n.e.c.*\n",
    "\n",
    "Codes for education travel...\n",
    "t180601   -> Travel related to taking class\n",
    "t180682   -> None                                 (what *was* this code? ( it was nested in with education))\n",
    "t180699   -> Travel related to education, n.e.c.*"
   ]
  },
  {
   "cell_type": "code",
   "execution_count": 9,
   "metadata": {
    "scrolled": true
   },
   "outputs": [
    {
     "data": {
      "image/png": "[encoded data removed]",
      "text/plain": [
       "<matplotlib.figure.Figure at 0x11000ad68>"
      ]
     },
     "metadata": {},
     "output_type": "display_data"
    }
   ],
   "source": [
    "work_travel_codes = ['t180501', 't180502', 't180589']\n",
    "edu_travel_codes = ['t180601', 't180699']\n",
    "\n",
    "all_work_travel_df = df_sum[['t180501', 't180502', 't180589']]\n",
    "all_edu_travel_df  = df_sum[['t180601', 't180699']]\n",
    "\n",
    "all_work_travel_df = all_work_travel_df.rename(columns={\"t180501\": \"working\", \n",
    "                                                        't180502': \"work_related\", \n",
    "                                                        't180589': \"work_n_e_c\"})\n",
    "all_edu_travel_df = all_edu_travel_df.rename(columns={\"t180601\": \"taking_class\", \n",
    "                                                      't180699': \"edu_n_e_c\"})\n",
    "\n",
    "fig = plt.figure(figsize=(16, 5))\n",
    "ax1 = fig.add_subplot(1, 2, 1)      \n",
    "all_work_travel_df.plot(kind='hist', ax=ax1, width=5, alpha = 0.5)\n",
    "plt.title('Travel for work') \n",
    "\n",
    "ax2 = fig.add_subplot(1, 2, 2)     \n",
    "all_edu_travel_df.plot(kind='hist' , ax=ax2, width=5, alpha = 0.5)\n",
    "plt.title('Travel for education') \n",
    "plt.tight_layout()\n",
    "plt.show()\n",
    "\n",
    "# bars of different columns superimposed. Want side by side."
   ]
  },
  {
   "cell_type": "markdown",
   "metadata": {},
   "source": [
    "The above two plot seems more explorative than explanitive.  \n",
    "Clarity needs simplicity. One \"thing\" for work Vs another \"thing\" for education, on common axes.  "
   ]
  },
  {
   "cell_type": "markdown",
   "metadata": {},
   "source": [
    "<span style=\"color:green\"> \n",
    "Draft #2\n",
    "Aggregate/sum the above multiple codes/columns (still jut summary) and plot on common axes.\n",
    "Maybe, since the summary retains info on if child under 18 in house, use that to find \"the school run\".\n",
    "</span>"
   ]
  },
  {
   "cell_type": "code",
   "execution_count": 10,
   "metadata": {
    "scrolled": true
   },
   "outputs": [
    {
     "data": {
      "text/html": [
       "<div>\n",
       "<table border=\"1\" class=\"dataframe\">\n",
       "  <thead>\n",
       "    <tr style=\"text-align: right;\">\n",
       "      <th></th>\n",
       "      <th>tucaseid</th>\n",
       "      <th>tulineno</th>\n",
       "      <th>tespuhrs</th>\n",
       "      <th>trdtind1</th>\n",
       "      <th>trdtocc1</th>\n",
       "      <th>trernhly</th>\n",
       "      <th>trernupd</th>\n",
       "      <th>trhernal</th>\n",
       "      <th>trhhchild</th>\n",
       "      <th>trimind1</th>\n",
       "      <th>...</th>\n",
       "      <th>tryhhchild</th>\n",
       "      <th>trwbmodr</th>\n",
       "      <th>trtalone_wk</th>\n",
       "      <th>trtccc_wk</th>\n",
       "      <th>trlvmodr</th>\n",
       "      <th>trtec</th>\n",
       "      <th>tuecytd</th>\n",
       "      <th>tuelder</th>\n",
       "      <th>tuelfreq</th>\n",
       "      <th>tuelnum</th>\n",
       "    </tr>\n",
       "  </thead>\n",
       "  <tbody>\n",
       "    <tr>\n",
       "      <th>0</th>\n",
       "      <td>20030100013280</td>\n",
       "      <td>1</td>\n",
       "      <td>-1</td>\n",
       "      <td>40</td>\n",
       "      <td>8</td>\n",
       "      <td>2200</td>\n",
       "      <td>1</td>\n",
       "      <td>1</td>\n",
       "      <td>2</td>\n",
       "      <td>15</td>\n",
       "      <td>...</td>\n",
       "      <td>-1</td>\n",
       "      <td>-1</td>\n",
       "      <td>-1</td>\n",
       "      <td>-1</td>\n",
       "      <td>-1</td>\n",
       "      <td>-1</td>\n",
       "      <td>-1</td>\n",
       "      <td>-1</td>\n",
       "      <td>-1</td>\n",
       "      <td>-1</td>\n",
       "    </tr>\n",
       "    <tr>\n",
       "      <th>1</th>\n",
       "      <td>20030100013344</td>\n",
       "      <td>1</td>\n",
       "      <td>50</td>\n",
       "      <td>16</td>\n",
       "      <td>16</td>\n",
       "      <td>-1</td>\n",
       "      <td>1</td>\n",
       "      <td>-1</td>\n",
       "      <td>1</td>\n",
       "      <td>5</td>\n",
       "      <td>...</td>\n",
       "      <td>0</td>\n",
       "      <td>-1</td>\n",
       "      <td>-1</td>\n",
       "      <td>-1</td>\n",
       "      <td>-1</td>\n",
       "      <td>-1</td>\n",
       "      <td>-1</td>\n",
       "      <td>-1</td>\n",
       "      <td>-1</td>\n",
       "      <td>-1</td>\n",
       "    </tr>\n",
       "    <tr>\n",
       "      <th>2</th>\n",
       "      <td>20030100013352</td>\n",
       "      <td>1</td>\n",
       "      <td>-1</td>\n",
       "      <td>43</td>\n",
       "      <td>15</td>\n",
       "      <td>1250</td>\n",
       "      <td>0</td>\n",
       "      <td>0</td>\n",
       "      <td>2</td>\n",
       "      <td>16</td>\n",
       "      <td>...</td>\n",
       "      <td>-1</td>\n",
       "      <td>-1</td>\n",
       "      <td>-1</td>\n",
       "      <td>-1</td>\n",
       "      <td>-1</td>\n",
       "      <td>-1</td>\n",
       "      <td>-1</td>\n",
       "      <td>-1</td>\n",
       "      <td>-1</td>\n",
       "      <td>-1</td>\n",
       "    </tr>\n",
       "    <tr>\n",
       "      <th>3</th>\n",
       "      <td>20030100013848</td>\n",
       "      <td>1</td>\n",
       "      <td>40</td>\n",
       "      <td>-1</td>\n",
       "      <td>-1</td>\n",
       "      <td>-1</td>\n",
       "      <td>-1</td>\n",
       "      <td>-1</td>\n",
       "      <td>1</td>\n",
       "      <td>-1</td>\n",
       "      <td>...</td>\n",
       "      <td>9</td>\n",
       "      <td>-1</td>\n",
       "      <td>-1</td>\n",
       "      <td>-1</td>\n",
       "      <td>-1</td>\n",
       "      <td>-1</td>\n",
       "      <td>-1</td>\n",
       "      <td>-1</td>\n",
       "      <td>-1</td>\n",
       "      <td>-1</td>\n",
       "    </tr>\n",
       "    <tr>\n",
       "      <th>4</th>\n",
       "      <td>20030100014165</td>\n",
       "      <td>1</td>\n",
       "      <td>-1</td>\n",
       "      <td>42</td>\n",
       "      <td>10</td>\n",
       "      <td>-1</td>\n",
       "      <td>-1</td>\n",
       "      <td>-1</td>\n",
       "      <td>1</td>\n",
       "      <td>16</td>\n",
       "      <td>...</td>\n",
       "      <td>14</td>\n",
       "      <td>-1</td>\n",
       "      <td>-1</td>\n",
       "      <td>-1</td>\n",
       "      <td>-1</td>\n",
       "      <td>-1</td>\n",
       "      <td>-1</td>\n",
       "      <td>-1</td>\n",
       "      <td>-1</td>\n",
       "      <td>-1</td>\n",
       "    </tr>\n",
       "  </tbody>\n",
       "</table>\n",
       "<p>5 rows × 132 columns</p>\n",
       "</div>"
      ],
      "text/plain": [
       "         tucaseid  tulineno  tespuhrs  trdtind1  trdtocc1  trernhly  trernupd  \\\n",
       "0  20030100013280         1        -1        40         8      2200         1   \n",
       "1  20030100013344         1        50        16        16        -1         1   \n",
       "2  20030100013352         1        -1        43        15      1250         0   \n",
       "3  20030100013848         1        40        -1        -1        -1        -1   \n",
       "4  20030100014165         1        -1        42        10        -1        -1   \n",
       "\n",
       "   trhernal  trhhchild  trimind1   ...     tryhhchild  trwbmodr  trtalone_wk  \\\n",
       "0         1          2        15   ...             -1        -1           -1   \n",
       "1        -1          1         5   ...              0        -1           -1   \n",
       "2         0          2        16   ...             -1        -1           -1   \n",
       "3        -1          1        -1   ...              9        -1           -1   \n",
       "4        -1          1        16   ...             14        -1           -1   \n",
       "\n",
       "   trtccc_wk  trlvmodr  trtec  tuecytd  tuelder  tuelfreq  tuelnum  \n",
       "0         -1        -1     -1       -1       -1        -1       -1  \n",
       "1         -1        -1     -1       -1       -1        -1       -1  \n",
       "2         -1        -1     -1       -1       -1        -1       -1  \n",
       "3         -1        -1     -1       -1       -1        -1       -1  \n",
       "4         -1        -1     -1       -1       -1        -1       -1  \n",
       "\n",
       "[5 rows x 132 columns]"
      ]
     },
     "execution_count": 10,
     "metadata": {},
     "output_type": "execute_result"
    }
   ],
   "source": [
    "# Merging data\n",
    "#rost_fp = '/Users/twaddy/NOTES/thinkful/DataSciBootCampPrep/cvs_data/atus/atusrost.csv'\n",
    "#rost_fp = '/Users/twaddy/NOTES/thinkful/DataSciBootCampPrep/cvs_data/atus/pruned_copies/pruned_atusrost.csv'\n",
    "#df_rost = pd.read_csv(rost_fp)\n",
    "\n",
    "#resp_fp = '/Users/twaddy/NOTES/thinkful/DataSciBootCampPrep/cvs_data/atus/atusresp.csv'\n",
    "resp_fp = '/Users/twaddy/NOTES/thinkful/DataSciBootCampPrep/cvs_data/atus/pruned_copies/pruned_atusresp.csv'\n",
    "df_resp = pd.read_csv(resp_fp)\n",
    "df_resp.head()"
   ]
  },
  {
   "cell_type": "code",
   "execution_count": 19,
   "metadata": {
    "scrolled": true
   },
   "outputs": [
    {
     "name": "stdout",
     "output_type": "stream",
     "text": [
      "tucaseid       ... means... household case ID\n",
      "gemetsta       ... means... Metropolitan status... switches to GTMETSTA in 2004\n",
      "peeduca        ... means... Educational Attainment\n",
      "pehspnon       ... means... Hispanic origin\n",
      "ptdtrace       ... means... self-reported race\n",
      "teage          ... means... respondent's age\n",
      "telfs          ... means... labor force status\n",
      "temjot         ... means... Multiple job status\n",
      "teschenr       ... means... enrolled in high school, college, or university\n",
      "teschlvl       ... means... would that be high school, college, or university\n",
      "tesex          ... means... sex\n",
      "tespempnot     ... means... employment status of spouse or unmarried partner\n",
      "trchildnum     ... means... number of household children < 18\n",
      "trdpftpt       ... means... Full time or part time employment status of respondent\n",
      "trernwa        ... means... Weekly earnings at main job (2 implied decimals)\n",
      "trholiday      ... means... Flag to indicate if diary day was a holiday\n",
      "trspftpt       ... means... Full time or part time employment status of spouse or unmarried partner\n",
      "trsppres       ... means... Presence of spouse\n",
      "tryhhchild     ... means... Age of youngest household child < 18\n",
      "tudiaryday     ... means... day of week about which respondent interviewed (M->F = 2->6)\n",
      "tufnwgtp       ... means... ATUS final weight\n",
      "tehruslt       ... means... total hours usually worked per week (sum of TEHRUSL1 and TEHRUSL2)\n",
      "tuyear         ... means... Year of diary day\n"
     ]
    }
   ],
   "source": [
    "# To \"explore/get a grip\" on columns and what they mean, as I researched the documentation\n",
    "# I accumulated a dictionary of the column descriptions, so, can use it here...\n",
    "import atus_var_dictionary as avd\n",
    "resp_cols = list(df_resp.columns.values)\n",
    "\n",
    "missing_meanings = []\n",
    "#for col in resp_cols:\n",
    "for col in first_24:\n",
    "    column_description, cvses = avd.get_col_meaning(col_head=col)\n",
    "    if column_description:\n",
    "        print(\"{0:14} ... means... {1}\".format(col, column_description))\n",
    "    else:\n",
    "        missing_meanings.append(col)"
   ]
  },
  {
   "cell_type": "raw",
   "metadata": {
    "collapsed": true
   },
   "source": [
    "This is thinking out loud/talking to the dog.\n",
    "\n",
    "What is needed to isolate \"school run\" travel from \"daily commute\" travel?\n",
    "The respondent is not necessarily the primary earner. \n",
    "Typically the secondary earner/non-earner will get the kids to school.\n",
    "Older kids take buses, younger kid's schools are smaller, so more of them, so typically closer.\n",
    "Is there a way to isolate \"commute\" travel from more random travel.\n",
    "How is any of this extractable from the atus data?"
   ]
  },
  {
   "cell_type": "code",
   "execution_count": 10,
   "metadata": {
    "collapsed": true
   },
   "outputs": [],
   "source": [
    "#act_rost_reports = pd.merge(activities_count, r_counts, on=['TESEX', 'TEAGE'], how='outer')\n",
    "#act_rost_reports['reports_per_resp'] = act_rost_reports.reports / act_rost_reports.resp_count\n",
    "#act_rost_reports.drop('resp_count', 1, inplace=True)\n",
    "#act_rost_reports = act_rost_reports.groupby(['TUTIER1CODE', 'TUTIER2CODE', 'TUTIER3CODE', 'TESEX', 'TEAGE']).sum()\n",
    "#act_rost_reports.head()"
   ]
  }
 ],
 "metadata": {
  "kernelspec": {
   "display_name": "Python 3",
   "language": "python",
   "name": "python3"
  },
  "language_info": {
   "codemirror_mode": {
    "name": "ipython",
    "version": 3
   },
   "file_extension": ".py",
   "mimetype": "text/x-python",
   "name": "python",
   "nbconvert_exporter": "python",
   "pygments_lexer": "ipython3",
   "version": "3.6.0"
  }
 },
 "nbformat": 4,
 "nbformat_minor": 2
}
